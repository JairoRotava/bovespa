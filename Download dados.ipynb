{
 "cells": [
  {
   "cell_type": "markdown",
   "metadata": {},
   "source": [
    "# Notebook para atualização do banco de dados.\n",
    "\n",
    "Cada diretório é um banco de dados com resolução temporal diferente. O ajuste é feito dentro do arquivo database.yaml. Para dados horários existe um limite do yahoo para até 60 dias da data atual. \n",
    "\n",
    "Para refazer o banco de dados apagar os arquivos dos papeis no diretório. O banco é gerado automaticamente após isso.\n",
    "\n",
    "Para atualizar, somente executar a função abaixo."
   ]
  },
  {
   "cell_type": "code",
   "execution_count": 1,
   "metadata": {},
   "outputs": [],
   "source": [
    "import numpy as np\n",
    "import pandas as pd\n",
    "import matplotlib.pyplot as plt\n",
    "import datetime\n",
    "import yfinance as yf\n",
    "import os.path\n",
    "import yaml\n",
    "yf.pdr_override()"
   ]
  },
  {
   "cell_type": "code",
   "execution_count": 5,
   "metadata": {},
   "outputs": [],
   "source": [
    "# Faz update dos bancos de dados de acordo com arquivo de configuracao\n",
    "def update_data(cfg_file):\n",
    "    fpath = os.path.dirname(os.path.abspath(cfg_file))\n",
    "    with open(cfg_file, \"r\") as stream:\n",
    "        data_cfg = yaml.safe_load(stream)\n",
    "\n",
    "    # Obtem papeis disponiveis no banco, assim como  periodo dos dados. \n",
    "    # Um arquivo csv para cada papel acho que é mais facil de organizar as coisas por enquanto\n",
    "    for ticker in data_cfg['tickers']:\n",
    "        print('Updating: ' + ticker)\n",
    "        fname = os.path.join(fpath,ticker)\n",
    "        if os.path.isfile(fname):\n",
    "            print('Reading file {}'.format(fname))\n",
    "            df = pd.read_csv(fname, index_col=0)\n",
    "            df.index = pd.DatetimeIndex(pd.to_datetime(df.index, infer_datetime_format=True))\n",
    "        else:\n",
    "            df = pd.DataFrame()\n",
    "\n",
    "        ## Pega data inicial/ final do arquivo e atualizar dados que faltam.\n",
    "        if df.empty:\n",
    "            t = data_cfg['startDate']\n",
    "            first_day = datetime.datetime(t.year, t.month, t.day)\n",
    "            last_day = first_day - datetime.timedelta(days=1)\n",
    "        else:\n",
    "            last_day = max(df.index).tz_localize(None)\n",
    "            first_day = min(df.index).tz_localize(None)\n",
    "            \n",
    "        # Determina data inicial e final para download de dados\n",
    "        end = datetime.datetime.today()\n",
    "        start = last_day + datetime.timedelta(days=1)\n",
    "\n",
    "        # Faz download de dados em lotes de no maxi maxDays dias.\n",
    "        delta = end - start\n",
    "        maxDays = data_cfg['maxDaysFetch']\n",
    "        p_end = end\n",
    "        while start.date() < end.date():\n",
    "            if delta.days > maxDays:\n",
    "                p_end = start + datetime.timedelta(days=maxDays)\n",
    "                if p_end > end:\n",
    "                    p_end = end\n",
    "\n",
    "\n",
    "            print('Period {} - {}'.format(start.strftime('%Y-%m-%d'), p_end.strftime('%Y-%m-%d')))\n",
    "\n",
    "            df_new = yf.download(ticker, start=start.strftime('%Y-%m-%d'), end=p_end.strftime('%Y-%m-%d'), interval=data_cfg['interval'])\n",
    "            df = pd.concat([df, df_new])\n",
    "            start = p_end\n",
    "\n",
    "        df.to_csv(fname)"
   ]
  },
  {
   "cell_type": "markdown",
   "metadata": {},
   "source": [
    "## Update banco de 15 min"
   ]
  },
  {
   "cell_type": "code",
   "execution_count": 7,
   "metadata": {},
   "outputs": [
    {
     "name": "stdout",
     "output_type": "stream",
     "text": [
      "Updating: WEGE3.SA\n",
      "Reading file c:\\Users\\jairo\\OneDrive\\Documentos\\GitHub\\bovespa\\bovespa\\data\\15m\\WEGE3.SA\n",
      "Updating: PETR4.SA\n",
      "Reading file c:\\Users\\jairo\\OneDrive\\Documentos\\GitHub\\bovespa\\bovespa\\data\\15m\\PETR4.SA\n",
      "Updating: VAMO3.SA\n",
      "Reading file c:\\Users\\jairo\\OneDrive\\Documentos\\GitHub\\bovespa\\bovespa\\data\\15m\\VAMO3.SA\n",
      "Updating: ITUB4.SA\n",
      "Reading file c:\\Users\\jairo\\OneDrive\\Documentos\\GitHub\\bovespa\\bovespa\\data\\15m\\ITUB4.SA\n",
      "Updating: PRIO3.SA\n",
      "Reading file c:\\Users\\jairo\\OneDrive\\Documentos\\GitHub\\bovespa\\bovespa\\data\\15m\\PRIO3.SA\n",
      "Updating: VALE3.SA\n",
      "Reading file c:\\Users\\jairo\\OneDrive\\Documentos\\GitHub\\bovespa\\bovespa\\data\\15m\\VALE3.SA\n",
      "Updating: USIM5.SA\n",
      "Reading file c:\\Users\\jairo\\OneDrive\\Documentos\\GitHub\\bovespa\\bovespa\\data\\15m\\USIM5.SA\n",
      "Updating: MGLU3.SA\n",
      "Reading file c:\\Users\\jairo\\OneDrive\\Documentos\\GitHub\\bovespa\\bovespa\\data\\15m\\MGLU3.SA\n",
      "Updating: PETZ3.SA\n",
      "Reading file c:\\Users\\jairo\\OneDrive\\Documentos\\GitHub\\bovespa\\bovespa\\data\\15m\\PETZ3.SA\n"
     ]
    }
   ],
   "source": [
    "\n",
    "update_data(\"./data/15m/database.yaml\")"
   ]
  },
  {
   "cell_type": "markdown",
   "metadata": {},
   "source": [
    "## Update da banco de 1h"
   ]
  },
  {
   "cell_type": "code",
   "execution_count": 9,
   "metadata": {},
   "outputs": [
    {
     "name": "stdout",
     "output_type": "stream",
     "text": [
      "Updating: WEGE3.SA\n",
      "Reading file c:\\Users\\jairo\\OneDrive\\Documentos\\GitHub\\bovespa\\bovespa\\data\\1h\\WEGE3.SA\n",
      "Updating: PETR4.SA\n",
      "Reading file c:\\Users\\jairo\\OneDrive\\Documentos\\GitHub\\bovespa\\bovespa\\data\\1h\\PETR4.SA\n",
      "Updating: VAMO3.SA\n",
      "Reading file c:\\Users\\jairo\\OneDrive\\Documentos\\GitHub\\bovespa\\bovespa\\data\\1h\\VAMO3.SA\n",
      "Updating: ITUB4.SA\n",
      "Reading file c:\\Users\\jairo\\OneDrive\\Documentos\\GitHub\\bovespa\\bovespa\\data\\1h\\ITUB4.SA\n",
      "Updating: PRIO3.SA\n",
      "Reading file c:\\Users\\jairo\\OneDrive\\Documentos\\GitHub\\bovespa\\bovespa\\data\\1h\\PRIO3.SA\n",
      "Updating: VALE3.SA\n",
      "Reading file c:\\Users\\jairo\\OneDrive\\Documentos\\GitHub\\bovespa\\bovespa\\data\\1h\\VALE3.SA\n",
      "Updating: USIM5.SA\n",
      "Reading file c:\\Users\\jairo\\OneDrive\\Documentos\\GitHub\\bovespa\\bovespa\\data\\1h\\USIM5.SA\n",
      "Updating: MGLU3.SA\n",
      "Reading file c:\\Users\\jairo\\OneDrive\\Documentos\\GitHub\\bovespa\\bovespa\\data\\1h\\MGLU3.SA\n",
      "Updating: PETZ3.SA\n",
      "Reading file c:\\Users\\jairo\\OneDrive\\Documentos\\GitHub\\bovespa\\bovespa\\data\\1h\\PETZ3.SA\n"
     ]
    }
   ],
   "source": [
    "update_data(\"./data/1h/database.yaml\")"
   ]
  },
  {
   "cell_type": "markdown",
   "metadata": {},
   "source": [
    "## Update de banco de 1 dia"
   ]
  },
  {
   "cell_type": "code",
   "execution_count": 10,
   "metadata": {},
   "outputs": [
    {
     "name": "stdout",
     "output_type": "stream",
     "text": [
      "Updating: WEGE3.SA\n",
      "Period 2022-01-01 - 2022-03-02\n",
      "[*********************100%***********************]  1 of 1 completed\n",
      "Period 2022-03-02 - 2022-05-01\n",
      "[*********************100%***********************]  1 of 1 completed\n",
      "Period 2022-05-01 - 2022-06-30\n",
      "[*********************100%***********************]  1 of 1 completed\n",
      "Period 2022-06-30 - 2022-08-29\n",
      "[*********************100%***********************]  1 of 1 completed\n",
      "Period 2022-08-29 - 2022-10-28\n",
      "[*********************100%***********************]  1 of 1 completed\n",
      "Period 2022-10-28 - 2022-11-10\n",
      "[*********************100%***********************]  1 of 1 completed\n",
      "Updating: PETR4.SA\n",
      "Period 2022-01-01 - 2022-03-02\n",
      "[*********************100%***********************]  1 of 1 completed\n",
      "Period 2022-03-02 - 2022-05-01\n",
      "[*********************100%***********************]  1 of 1 completed\n",
      "Period 2022-05-01 - 2022-06-30\n",
      "[*********************100%***********************]  1 of 1 completed\n",
      "Period 2022-06-30 - 2022-08-29\n",
      "[*********************100%***********************]  1 of 1 completed\n",
      "Period 2022-08-29 - 2022-10-28\n",
      "[*********************100%***********************]  1 of 1 completed\n",
      "Period 2022-10-28 - 2022-11-10\n",
      "[*********************100%***********************]  1 of 1 completed\n",
      "Updating: VAMO3.SA\n",
      "Period 2022-01-01 - 2022-03-02\n",
      "[*********************100%***********************]  1 of 1 completed\n",
      "Period 2022-03-02 - 2022-05-01\n",
      "[*********************100%***********************]  1 of 1 completed\n",
      "Period 2022-05-01 - 2022-06-30\n",
      "[*********************100%***********************]  1 of 1 completed\n",
      "Period 2022-06-30 - 2022-08-29\n",
      "[*********************100%***********************]  1 of 1 completed\n",
      "Period 2022-08-29 - 2022-10-28\n",
      "[*********************100%***********************]  1 of 1 completed\n",
      "Period 2022-10-28 - 2022-11-10\n",
      "[*********************100%***********************]  1 of 1 completed\n",
      "Updating: ITUB4.SA\n",
      "Period 2022-01-01 - 2022-03-02\n",
      "[*********************100%***********************]  1 of 1 completed\n",
      "Period 2022-03-02 - 2022-05-01\n",
      "[*********************100%***********************]  1 of 1 completed\n",
      "Period 2022-05-01 - 2022-06-30\n",
      "[*********************100%***********************]  1 of 1 completed\n",
      "Period 2022-06-30 - 2022-08-29\n",
      "[*********************100%***********************]  1 of 1 completed\n",
      "Period 2022-08-29 - 2022-10-28\n",
      "[*********************100%***********************]  1 of 1 completed\n",
      "Period 2022-10-28 - 2022-11-10\n",
      "[*********************100%***********************]  1 of 1 completed\n",
      "Updating: PRIO3.SA\n",
      "Period 2022-01-01 - 2022-03-02\n",
      "[*********************100%***********************]  1 of 1 completed\n",
      "Period 2022-03-02 - 2022-05-01\n",
      "[*********************100%***********************]  1 of 1 completed\n",
      "Period 2022-05-01 - 2022-06-30\n",
      "[*********************100%***********************]  1 of 1 completed\n",
      "Period 2022-06-30 - 2022-08-29\n",
      "[*********************100%***********************]  1 of 1 completed\n",
      "Period 2022-08-29 - 2022-10-28\n",
      "[*********************100%***********************]  1 of 1 completed\n",
      "Period 2022-10-28 - 2022-11-10\n",
      "[*********************100%***********************]  1 of 1 completed\n",
      "Updating: VALE3.SA\n",
      "Period 2022-01-01 - 2022-03-02\n",
      "[*********************100%***********************]  1 of 1 completed\n",
      "Period 2022-03-02 - 2022-05-01\n",
      "[*********************100%***********************]  1 of 1 completed\n",
      "Period 2022-05-01 - 2022-06-30\n",
      "[*********************100%***********************]  1 of 1 completed\n",
      "Period 2022-06-30 - 2022-08-29\n",
      "[*********************100%***********************]  1 of 1 completed\n",
      "Period 2022-08-29 - 2022-10-28\n",
      "[*********************100%***********************]  1 of 1 completed\n",
      "Period 2022-10-28 - 2022-11-10\n",
      "[*********************100%***********************]  1 of 1 completed\n",
      "Updating: USIM5.SA\n",
      "Period 2022-01-01 - 2022-03-02\n",
      "[*********************100%***********************]  1 of 1 completed\n",
      "Period 2022-03-02 - 2022-05-01\n",
      "[*********************100%***********************]  1 of 1 completed\n",
      "Period 2022-05-01 - 2022-06-30\n",
      "[*********************100%***********************]  1 of 1 completed\n",
      "Period 2022-06-30 - 2022-08-29\n",
      "[*********************100%***********************]  1 of 1 completed\n",
      "Period 2022-08-29 - 2022-10-28\n",
      "[*********************100%***********************]  1 of 1 completed\n",
      "Period 2022-10-28 - 2022-11-10\n",
      "[*********************100%***********************]  1 of 1 completed\n",
      "Updating: MGLU3.SA\n",
      "Period 2022-01-01 - 2022-03-02\n",
      "[*********************100%***********************]  1 of 1 completed\n",
      "Period 2022-03-02 - 2022-05-01\n",
      "[*********************100%***********************]  1 of 1 completed\n",
      "Period 2022-05-01 - 2022-06-30\n",
      "[*********************100%***********************]  1 of 1 completed\n",
      "Period 2022-06-30 - 2022-08-29\n",
      "[*********************100%***********************]  1 of 1 completed\n",
      "Period 2022-08-29 - 2022-10-28\n",
      "[*********************100%***********************]  1 of 1 completed\n",
      "Period 2022-10-28 - 2022-11-10\n",
      "[*********************100%***********************]  1 of 1 completed\n",
      "Updating: PETZ3.SA\n",
      "Period 2022-01-01 - 2022-03-02\n",
      "[*********************100%***********************]  1 of 1 completed\n",
      "Period 2022-03-02 - 2022-05-01\n",
      "[*********************100%***********************]  1 of 1 completed\n",
      "Period 2022-05-01 - 2022-06-30\n",
      "[*********************100%***********************]  1 of 1 completed\n",
      "Period 2022-06-30 - 2022-08-29\n",
      "[*********************100%***********************]  1 of 1 completed\n",
      "Period 2022-08-29 - 2022-10-28\n",
      "[*********************100%***********************]  1 of 1 completed\n",
      "Period 2022-10-28 - 2022-11-10\n",
      "[*********************100%***********************]  1 of 1 completed\n"
     ]
    }
   ],
   "source": [
    "update_data(\"./data/1d/database.yaml\")"
   ]
  },
  {
   "cell_type": "code",
   "execution_count": null,
   "metadata": {},
   "outputs": [],
   "source": []
  }
 ],
 "metadata": {
  "kernelspec": {
   "display_name": "Python 3.10.8 64-bit",
   "language": "python",
   "name": "python3"
  },
  "language_info": {
   "codemirror_mode": {
    "name": "ipython",
    "version": 3
   },
   "file_extension": ".py",
   "mimetype": "text/x-python",
   "name": "python",
   "nbconvert_exporter": "python",
   "pygments_lexer": "ipython3",
   "version": "3.10.8"
  },
  "orig_nbformat": 4,
  "vscode": {
   "interpreter": {
    "hash": "29d934e094cb0ee13860f5d3e3f348ead199b690e91595840900fe5354a52828"
   }
  }
 },
 "nbformat": 4,
 "nbformat_minor": 2
}
